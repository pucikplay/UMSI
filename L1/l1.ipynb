{
 "cells": [
  {
   "cell_type": "markdown",
   "id": "77d98a4e-9418-4397-8b7a-8088621543bc",
   "metadata": {},
   "source": [
    "# Lista 1\n",
    "\n",
    "## Uczenie maszynowe i sztuczna inteligencja\n",
    "\n",
    "* [regresja](https://pl.wikipedia.org/wiki/Regresja_(statystyka))\n",
    "* [podobieństwo konsinusowe](https://en.wikipedia.org/wiki/Cosine_similarity)"
   ]
  },
  {
   "cell_type": "markdown",
   "id": "b7ff1e5a-8599-412a-9494-45699a65a2fb",
   "metadata": {},
   "source": [
    "## Zadanie 1 (10pt)\n",
    "\n",
    "Napisz wykorzystując regresję liniową program, który na podstawie oceny filmów przez użytkowników będzie\n",
    "starał się przewidzieć ocenę innych użytkowników. Jako dane wykorzystamy zbiór\n",
    "[MovieLens Latest Datasets](https://grouplens.org/datasets/movielens/latest/).\n",
    "Dokładnie wybierzemy mniejszy zbiór, pobierz plik\n",
    "[ml-latest-small.zip](http://files.grouplens.org/datasets/movielens/ml-latest-small.zip\").\n",
    "Zadanie polega na wybraniu z pliku <em>ratings.csv</em> tych użytkowników ($\\,{userId}$), którzy ocenili film\n",
    "'Toy Story (1995)', który w tym pliku ma identyfikator '1' (patrz <em>movies.csv</em>).\n",
    "W tym pliku osób takich jest $215$. Wtedy zgodnie z zapisem z wykładu\n",
    "$x_{ij}$ będzie oceną $i$-tego użytkownika dla $i=0,\\ldots, 214$, bo\n",
    "taki jest nasz zbiór osób, które oceniły 'Toy Story' oraz $j$ będzie oceną $j$-tego filmu\n",
    "dla $j=0,\\ldots,m$. Jako $j$ można wybrać $\\,{movieId}$ filmu, czyli\n",
    "np. film o $\\,{movieId}=42$ oceniony przez użytkownika $5$ (nie jest to $\\,{userId}$, tylko\n",
    "piąta osoba ze zbioru $215$ osób), który ocenił film jako np. $3.5$ wpisujemy $x[5, 42] = 3.5$.\n",
    "Natomiast $y_i$ to ocena 'Toy Story' przez $i$-tego użytkownika. Zatem tworzymy macierz $X = [x_{ij}]$ oraz wektor $y_i$\n",
    "gdzie $i=0,\\ldots,215$ oraz $j=0,\\ldots,m$. Dla tak przygotowanych danych wykonujemy:\n",
    "\n",
    "* regresje liniową na całym zbiorze użytkowników dla $m=10,1000,10000$,\n",
    "  czyli np. dla $m=10$ ignorujemy filmy o $\\,{movieId} \\gt 10$ i robimy regresje\n",
    "  dla tak okrojonego zbioru ocen. Jakie dostajemy błędy. Pokaż na wykresie.\n",
    "* podziel zbiór osób na tzw. zbiór treningowy oraz zbiór testowy np.\n",
    "  weźmy $i=0,\\ldots,200$ to będzie zbiór treningowy i na takim zbiorze osób wykonajmy regresje\n",
    "  natomiast później sprawdzamy już dla całości ($215$). Zatem ostatnie\n",
    "  $15$ ocen będziemy chcieli przewidzieć (zbiór testowy). Zrób przewidywanie dla\n",
    "  $m=10,100,200,500,1000,10000$. Wyświetl wynik predykcji i wynik prawidłowy\n",
    "  dla tych $15$ osób.\n",
    "\n",
    "Przykład danych do regresji jakie otrzymujemy dla $m=10$ i $n=215$.\n",
    "\n",
    "```\n",
    "X = [[0.  4.  0.  0.  4.  0.  0.  0.  0.  0. ]\n",
    "     [0.  0.  0.  0.  0.  0.  0.  0.  0.  0. ]\n",
    "     [0.  0.  0.  0.  0.  0.  0.  0.  0.  0. ]\n",
    "     [0.  0.  0.  0.  0.  0.  0.  0.  0.  0. ]\n",
    "     [0.  0.  0.  0.  0.  0.  0.  0.  0.  0. ]\n",
    "     [3.  0.  0.  0.  4.  0.  0.  0.  0.  0. ]\n",
    "     [3.  3.  0.  0.  0.  2.  0.  0.  2.  0. ]\n",
    "     [3.5 0.  0.  0.  0.  0.  0.  0.  5.  0. ]\n",
    "     ...\n",
    "y = [[4. ]\n",
    "     [4. ]\n",
    "     [4.5]\n",
    "     [2.5]\n",
    "     [4.5]\n",
    "     [3.5]\n",
    "     [4. ]\n",
    "     [3.5]\n",
    "     ...\n",
    "```\n"
   ]
  },
  {
   "cell_type": "code",
   "execution_count": 148,
   "id": "d145428d",
   "metadata": {},
   "outputs": [],
   "source": [
    "import numpy as np\n",
    "import pandas as pd\n",
    "from sklearn.linear_model import LinearRegression\n",
    "import matplotlib.pyplot as plt\n",
    "from sklearn import metrics"
   ]
  },
  {
   "cell_type": "code",
   "execution_count": 70,
   "id": "1c1e2b1d-5e9d-4373-a11e-9e7935adbda9",
   "metadata": {},
   "outputs": [
    {
     "data": {
      "text/html": [
       "<div>\n",
       "<style scoped>\n",
       "    .dataframe tbody tr th:only-of-type {\n",
       "        vertical-align: middle;\n",
       "    }\n",
       "\n",
       "    .dataframe tbody tr th {\n",
       "        vertical-align: top;\n",
       "    }\n",
       "\n",
       "    .dataframe thead th {\n",
       "        text-align: right;\n",
       "    }\n",
       "</style>\n",
       "<table border=\"1\" class=\"dataframe\">\n",
       "  <thead>\n",
       "    <tr style=\"text-align: right;\">\n",
       "      <th></th>\n",
       "      <th>userId</th>\n",
       "      <th>movieId</th>\n",
       "      <th>rating</th>\n",
       "      <th>timestamp</th>\n",
       "    </tr>\n",
       "  </thead>\n",
       "  <tbody>\n",
       "    <tr>\n",
       "      <th>0</th>\n",
       "      <td>1</td>\n",
       "      <td>1</td>\n",
       "      <td>4.0</td>\n",
       "      <td>964982703</td>\n",
       "    </tr>\n",
       "    <tr>\n",
       "      <th>1</th>\n",
       "      <td>1</td>\n",
       "      <td>3</td>\n",
       "      <td>4.0</td>\n",
       "      <td>964981247</td>\n",
       "    </tr>\n",
       "    <tr>\n",
       "      <th>2</th>\n",
       "      <td>1</td>\n",
       "      <td>6</td>\n",
       "      <td>4.0</td>\n",
       "      <td>964982224</td>\n",
       "    </tr>\n",
       "    <tr>\n",
       "      <th>3</th>\n",
       "      <td>1</td>\n",
       "      <td>47</td>\n",
       "      <td>5.0</td>\n",
       "      <td>964983815</td>\n",
       "    </tr>\n",
       "    <tr>\n",
       "      <th>4</th>\n",
       "      <td>1</td>\n",
       "      <td>50</td>\n",
       "      <td>5.0</td>\n",
       "      <td>964982931</td>\n",
       "    </tr>\n",
       "    <tr>\n",
       "      <th>5</th>\n",
       "      <td>1</td>\n",
       "      <td>70</td>\n",
       "      <td>3.0</td>\n",
       "      <td>964982400</td>\n",
       "    </tr>\n",
       "  </tbody>\n",
       "</table>\n",
       "</div>"
      ],
      "text/plain": [
       "   userId  movieId  rating  timestamp\n",
       "0       1        1     4.0  964982703\n",
       "1       1        3     4.0  964981247\n",
       "2       1        6     4.0  964982224\n",
       "3       1       47     5.0  964983815\n",
       "4       1       50     5.0  964982931\n",
       "5       1       70     3.0  964982400"
      ]
     },
     "execution_count": 70,
     "metadata": {},
     "output_type": "execute_result"
    }
   ],
   "source": [
    "ratings = pd.read_csv('ml-latest-small/ratings.csv')\n",
    "ratings.head()"
   ]
  },
  {
   "cell_type": "code",
   "execution_count": 98,
   "id": "1db689c7",
   "metadata": {},
   "outputs": [
    {
     "data": {
      "text/html": [
       "<div>\n",
       "<style scoped>\n",
       "    .dataframe tbody tr th:only-of-type {\n",
       "        vertical-align: middle;\n",
       "    }\n",
       "\n",
       "    .dataframe tbody tr th {\n",
       "        vertical-align: top;\n",
       "    }\n",
       "\n",
       "    .dataframe thead th {\n",
       "        text-align: right;\n",
       "    }\n",
       "</style>\n",
       "<table border=\"1\" class=\"dataframe\">\n",
       "  <thead>\n",
       "    <tr style=\"text-align: right;\">\n",
       "      <th></th>\n",
       "      <th>userId</th>\n",
       "    </tr>\n",
       "  </thead>\n",
       "  <tbody>\n",
       "    <tr>\n",
       "      <th>0</th>\n",
       "      <td>1</td>\n",
       "    </tr>\n",
       "    <tr>\n",
       "      <th>1</th>\n",
       "      <td>5</td>\n",
       "    </tr>\n",
       "    <tr>\n",
       "      <th>2</th>\n",
       "      <td>7</td>\n",
       "    </tr>\n",
       "    <tr>\n",
       "      <th>3</th>\n",
       "      <td>15</td>\n",
       "    </tr>\n",
       "    <tr>\n",
       "      <th>4</th>\n",
       "      <td>17</td>\n",
       "    </tr>\n",
       "    <tr>\n",
       "      <th>...</th>\n",
       "      <td>...</td>\n",
       "    </tr>\n",
       "    <tr>\n",
       "      <th>210</th>\n",
       "      <td>606</td>\n",
       "    </tr>\n",
       "    <tr>\n",
       "      <th>211</th>\n",
       "      <td>607</td>\n",
       "    </tr>\n",
       "    <tr>\n",
       "      <th>212</th>\n",
       "      <td>608</td>\n",
       "    </tr>\n",
       "    <tr>\n",
       "      <th>213</th>\n",
       "      <td>609</td>\n",
       "    </tr>\n",
       "    <tr>\n",
       "      <th>214</th>\n",
       "      <td>610</td>\n",
       "    </tr>\n",
       "  </tbody>\n",
       "</table>\n",
       "<p>215 rows × 1 columns</p>\n",
       "</div>"
      ],
      "text/plain": [
       "     userId\n",
       "0         1\n",
       "1         5\n",
       "2         7\n",
       "3        15\n",
       "4        17\n",
       "..      ...\n",
       "210     606\n",
       "211     607\n",
       "212     608\n",
       "213     609\n",
       "214     610\n",
       "\n",
       "[215 rows x 1 columns]"
      ]
     },
     "execution_count": 98,
     "metadata": {},
     "output_type": "execute_result"
    }
   ],
   "source": [
    "users_ts = ratings.loc[ratings['movieId'] == 1]\\\n",
    "                  .reset_index(drop=True)\\\n",
    "                  .drop(['movieId', 'rating', 'timestamp'], axis=1)\n",
    "users_ts"
   ]
  },
  {
   "cell_type": "code",
   "execution_count": 125,
   "id": "6cd99083",
   "metadata": {},
   "outputs": [],
   "source": [
    "def get_user(user_id, users):\n",
    "    return int(users.loc[users['userId'] == user_id].index[0])\n",
    "\n",
    "def get_data(ratings, users, m):\n",
    "    X = np.zeros((len(users),m))\n",
    "    y = np.zeros((len(users)))\n",
    "    for index, row in ratings.iterrows():\n",
    "        user_id = int(row['userId'])\n",
    "        if user_id not in users['userId'].tolist():\n",
    "            continue\n",
    "        user = get_user(user_id, users)\n",
    "        movie = int(row['movieId'])\n",
    "        rating = row['rating']\n",
    "        if movie+2 < m:\n",
    "            if movie == 1:\n",
    "                y[user] = rating\n",
    "            else:\n",
    "                X[user][movie-2] = rating\n",
    "\n",
    "    return X, y"
   ]
  },
  {
   "cell_type": "code",
   "execution_count": 146,
   "id": "d37d0c47",
   "metadata": {},
   "outputs": [
    {
     "name": "stdout",
     "output_type": "stream",
     "text": [
      "(8, 10)\n",
      "[4.  4.  4.5 2.5 4.5 3.5 4.  3.5]\n"
     ]
    }
   ],
   "source": [
    "X, y = get_data(ratings, users_ts, 10000)\n",
    "print(X[:8,:10])\n",
    "print(y[:8])"
   ]
  },
  {
   "cell_type": "markdown",
   "id": "096fc9a6",
   "metadata": {},
   "source": [
    "### Regresja liniowa"
   ]
  },
  {
   "cell_type": "code",
   "execution_count": 161,
   "id": "e1900e07",
   "metadata": {},
   "outputs": [],
   "source": [
    "def plot_error(y, y_preds, M):\n",
    "    M = [str(m) for m in M]\n",
    "    MSEs = np.array([metrics.mean_squared_error(y, y_pred) for y_pred in y_preds])\n",
    "    print(MSEs)\n",
    "    plt.bar(M, MSEs)\n",
    "    plt.title(f'MSE')\n",
    "    plt.xlabel('m')\n",
    "    plt.ylabel('MSE')\n",
    "    plt.show()"
   ]
  },
  {
   "cell_type": "code",
   "execution_count": 162,
   "id": "7d93bbcf",
   "metadata": {},
   "outputs": [
    {
     "name": "stdout",
     "output_type": "stream",
     "text": [
      "[6.57278655e-01 1.55910102e-29 2.30482683e-29]\n"
     ]
    },
    {
     "data": {
      "image/png": "[encoded data removed]",
      "text/plain": [
       "<Figure size 640x480 with 1 Axes>"
      ]
     },
     "metadata": {},
     "output_type": "display_data"
    }
   ],
   "source": [
    "M = [10, 1000, 10000]\n",
    "y_preds = []\n",
    "\n",
    "for m in M:\n",
    "    X_m = np.array(X[:,:m])\n",
    "    reg = LinearRegression().fit(X_m,y)\n",
    "    y_preds.append(reg.predict(X_m))\n",
    "    \n",
    "plot_error(y, y_preds, M)\n",
    "    "
   ]
  },
  {
   "cell_type": "markdown",
   "id": "91ceac7a",
   "metadata": {},
   "source": [
    "#### Podział na zbiór treningowy i testowy"
   ]
  },
  {
   "cell_type": "code",
   "execution_count": null,
   "id": "58485897",
   "metadata": {},
   "outputs": [],
   "source": [
    "M = [10, 100, 200, 500, 1000, 10000]"
   ]
  },
  {
   "cell_type": "markdown",
   "id": "fe57b10d-664a-4512-bb2b-c4d75f2d87eb",
   "metadata": {},
   "source": [
    "## Zadanie 2 (15pt)\n",
    "\n",
    "Napisz system rekomendacji filmów. Systemy takie są wykorzystywane przez różne firmy np.\n",
    "Netflix organizował konkurs na opracowanie algorytmu, który będzie przewidywał\n",
    "ocenę użytkownika [Netflix Prize](https://en.wikipedia.org/wiki/Netflix_Prize).\n",
    "W zadaniu tym zaimplementujemy podobny system, który jednak zamiast przewidywania będzie na\n",
    "podstawie preferencji użytkownika rekomendował filmy, które najprawdopodobniej mu się spodobają.\n",
    "Istnieje wiele sposobów, aby taki system napisać, dla zainteresowanych bardziej tematem proponuje\n",
    "zobaczyć np. [Recommendation Systems](http://infolab.stanford.edu/~ullman/mmds/ch9.pdf).\n",
    "W tym zadaniu wybierzemy w miarę prosty i łatwy do implementacji system rekomendacji.\n",
    "Sformalizujmy problem. Załóżmy, że mamy macierz oceny, gdzie wiersze będą reprezentować\n",
    "użytkowników a kolumny filmy np.\n",
    "$$ \\begin{array}{ccc}\n",
    "    & \\,{Matrix} & \\,{Star Wars IV} \\\\\n",
    "    \\,{Alice} & 5 & 4 \\\\\n",
    "    \\,{Bob} & 0 & 1 \\\\\n",
    "    \\,{John} & 2 & 2 \\\\\n",
    "    \\,{Ada} & 5 & 5\n",
    "   \\end{array}$$\n",
    "Patrząc na powyższą macierz widać, że kolumny pierwsza i druga mają podobne oceny stąd można wywnioskować, że\n",
    "filmy Matrix i Star Wars IV są (według użytkowników) podobne do siebie, czyli jeśli komuś podobał się Matrix\n",
    "to jest duża szansa, że będzie podobał mu się Star Wars i odwrotnie. Dlatego \"podobieństwo\" sformalizujemy przez wykorzystanie\n",
    "[podobieństwa cosinusowego](https://en.wikipedia.org/wiki/Cosine_similarity), czyli\n",
    "jeśli $x = (x_1, x_2, \\dots, x_n)$ i $y = (y_1, y_2, \\dots, y_n)$, wtedy:\n",
    "$$x_1 y_1 + x_2 y_2 + \\cdots + x_n y_n = x \\cdot y = \\lVert x \\rVert \\lVert y \\rVert \\cos(\\theta)$$\n",
    "Gdzie $\\theta$ jest kątem między wektorami. Wygodniej będzie nam normalizować wektory. Wtedy\n",
    "$x_1 y_1 + x_2 y_2 + \\cdots + x_n y_n = \\cos(\\theta).$ Wtedy $\\cos(\\theta)$ reprezentuje\n",
    "podobieństwo jednego wektora do drugiego, czyli jak bardzo jedne oceny są bliskie innym.\n",
    "\n",
    "Dla naszej macierzy otrzymujemy"
   ]
  },
  {
   "cell_type": "code",
   "execution_count": 1,
   "id": "cf2a17ea-4e8c-47ea-9871-5450d7deee3b",
   "metadata": {},
   "outputs": [],
   "source": [
    "import numpy as np"
   ]
  },
  {
   "cell_type": "code",
   "execution_count": 2,
   "id": "6e99207c-9bd7-40ee-96b2-aaf1dafe443e",
   "metadata": {},
   "outputs": [
    {
     "data": {
      "text/plain": [
       "array([[5, 4],\n",
       "       [0, 1],\n",
       "       [2, 2],\n",
       "       [5, 5]])"
      ]
     },
     "execution_count": 2,
     "metadata": {},
     "output_type": "execute_result"
    }
   ],
   "source": [
    "x = np.array([[5,0,2,5], [4,1,2,5]]).T\n",
    "x"
   ]
  },
  {
   "cell_type": "markdown",
   "id": "bb615f08-7baf-430d-80d0-08f785eda34a",
   "metadata": {},
   "source": [
    "Obliczamy normę wektorów kolumnowych"
   ]
  },
  {
   "cell_type": "code",
   "execution_count": 3,
   "id": "9fb33308-4748-427f-98e7-cc07c1fac310",
   "metadata": {},
   "outputs": [
    {
     "data": {
      "text/plain": [
       "array([7.34846923, 6.78232998])"
      ]
     },
     "execution_count": 3,
     "metadata": {},
     "output_type": "execute_result"
    }
   ],
   "source": [
    "np.linalg.norm(x, axis=0)"
   ]
  },
  {
   "cell_type": "markdown",
   "id": "bbde06a8-a6bb-4770-9ff0-ef55310c64dc",
   "metadata": {},
   "source": [
    "Obliczamy znormalizowaną macierz"
   ]
  },
  {
   "cell_type": "code",
   "execution_count": 4,
   "id": "93adf6e9-a048-4dd7-9bd0-3460706dbcd1",
   "metadata": {},
   "outputs": [
    {
     "data": {
      "text/plain": [
       "array([[0.68041382, 0.58976782],\n",
       "       [0.        , 0.14744196],\n",
       "       [0.27216553, 0.29488391],\n",
       "       [0.68041382, 0.73720978]])"
      ]
     },
     "execution_count": 4,
     "metadata": {},
     "output_type": "execute_result"
    }
   ],
   "source": [
    "x/np.linalg.norm(x, axis=0)"
   ]
  },
  {
   "cell_type": "markdown",
   "id": "17a58c11-765d-4741-9989-0e9dee7339bb",
   "metadata": {},
   "source": [
    "Nasza własna ocena filmów Matrix - 4, Star Wars IV - 3 dla wygody zapisujemy jako wektor kolumnowy"
   ]
  },
  {
   "cell_type": "code",
   "execution_count": 5,
   "id": "82148274-ac30-44f5-b6d1-554f1d095869",
   "metadata": {},
   "outputs": [
    {
     "data": {
      "text/plain": [
       "[[4], [3]]"
      ]
     },
     "execution_count": 5,
     "metadata": {},
     "output_type": "execute_result"
    }
   ],
   "source": [
    "y = [[4],[3]]\n",
    "y"
   ]
  },
  {
   "cell_type": "markdown",
   "id": "bf4ba901-97b0-48ee-8a3f-f47f60b63fb4",
   "metadata": {},
   "source": [
    "Obliczamy podobieństwo cosinusowe z każdym użytkownikiem (skorzystamy z mnożenia macierzowego)"
   ]
  },
  {
   "cell_type": "code",
   "execution_count": 6,
   "id": "955609d4-806a-495c-a845-99e66129447d",
   "metadata": {},
   "outputs": [
    {
     "data": {
      "text/plain": [
       "array([[0.89819175],\n",
       "       [0.08846517],\n",
       "       [0.39466277],\n",
       "       [0.98665692]])"
      ]
     },
     "execution_count": 6,
     "metadata": {},
     "output_type": "execute_result"
    }
   ],
   "source": [
    "z=np.dot(x/np.linalg.norm(x, axis=0), np.array(y)/np.linalg.norm(y))\n",
    "z"
   ]
  },
  {
   "cell_type": "markdown",
   "id": "bfe4cfff-af44-4435-8ebc-678ec0aab068",
   "metadata": {},
   "source": [
    "Normalizujemy otrzymany wektor (będzie on reprezentował nasz profil filmowy)"
   ]
  },
  {
   "cell_type": "code",
   "execution_count": 7,
   "id": "e22b815b-2497-4f22-8559-e8ffdff970b0",
   "metadata": {},
   "outputs": [
    {
     "data": {
      "text/plain": [
       "array([[0.64422929],\n",
       "       [0.06345177],\n",
       "       [0.28307243],\n",
       "       [0.70768107]])"
      ]
     },
     "execution_count": 7,
     "metadata": {},
     "output_type": "execute_result"
    }
   ],
   "source": [
    "z/np.linalg.norm(z)"
   ]
  },
  {
   "cell_type": "markdown",
   "id": "25d0be24-f472-4067-ae68-737b56675906",
   "metadata": {},
   "source": [
    "Teraz musimy obliczyć podobieństwo cosinusowe między naszym profilem a każdą kolumną macierzy, aby znaleźć takie filmy, które są podobne do naszego profilu. Sortujemy po otrzymanym podobieństwu i dostajemy rekomendacje. Wykorzystując nasz przykład, otrzymujemy\n"
   ]
  },
  {
   "cell_type": "code",
   "execution_count": 8,
   "id": "860c8fe4-1dfd-4d87-b21d-b37f7b3b1f5d",
   "metadata": {},
   "outputs": [
    {
     "data": {
      "text/plain": [
       "array([[0.99690104],\n",
       "       [0.99448407]])"
      ]
     },
     "execution_count": 8,
     "metadata": {},
     "output_type": "execute_result"
    }
   ],
   "source": [
    "X = x/np.linalg.norm(x, axis=0)\n",
    "Z = z/np.linalg.norm(z)\n",
    "np.dot(X.T, Z)"
   ]
  },
  {
   "cell_type": "markdown",
   "id": "899ca7e8-88fd-4b1a-8020-ad64300d8d8f",
   "metadata": {},
   "source": [
    "Stąd dostaliśmy większą rekomendacje dla filmu Matrix (0.996) niż Star Wars IV (0.994). Co było oczywiście oczekiwane\n",
    "skoro nasza ocena była Matrix - 4, a Star Wars IV - 3.\n",
    "\n",
    "Możemy, teraz przejść do właściwej części zadania.\n",
    "\n",
    "### Zadanie do wykoniania\n",
    "\n",
    "Napisz system rekomendacji filmów który będzie wykorzystywał dane\n",
    "[MovieLens Latest Datasets](https://grouplens.org/datasets/movielens/latest/).\n",
    "Dokładnie mniejszy zbiór (który dodatkowo trochę jeszcze zmniejszymy). Pobierz plik\n",
    "[ml-latest-small.zip](http://files.grouplens.org/datasets/movielens/ml-latest-small.zip).\n",
    "Interesować, będą nas głównie dwa pliki movies.csv oraz ratings.csv. W pliku ratings.csv mamy\n",
    "właściwie wszystkie dane, które będą nam potrzebne aby stworzyć macierz oceny. Ponieważ\n",
    "nawet w tym przypadku otrzymana macierz będzie dość duża dlatego w trakcie wczytywania\n",
    "danych z pliku proszę wziąć pod uwagę tylko te wiersze (z pliku ratings.csv) w których <b>movie_id</b> (druga kolumna)\n",
    "jest mniejsze od 10000 (resztę ignorujemy). Dla aktualnych danych ze strony otrzymamy, wtedy macierz mniej więcej 611x9019.\n",
    "Przykładowy wynik dla wybranego profilu filmowego:\n",
    "\n",
    "```\n",
    "# wektor my_ratings odpowiada wektorowi y z przykładu wyżej\n",
    "my_ratings = np.zeros((9019,1))\n",
    "my_ratings[2571] = 5      # patrz movies.csv  2571 - Matrix\n",
    "my_ratings[32] = 4        # 32 - Twelve Monkeys\n",
    "my_ratings[260] = 5       # 260 - Star Wars IV\n",
    "my_ratings[1097] = 4\n",
    "my_ratings_norm = my_ratings/np.linalg.norm(my_ratings)\n",
    "\n",
    "...\n",
    "\n",
    "# otrzymujemy wynik rekomendacji po posortowaniu\n",
    "# (cos(θ), movies_id)\n",
    "(0.8675507828468105, 260)\n",
    "(0.8362098349303669, 2571)\n",
    "(0.8227451213877744, 1196)\n",
    "(0.8002349214247857, 1210)\n",
    "(0.7458504689612442, 1097)\n",
    "(0.7286029159733108, 32)\n",
    "(0.7265369898748615, 1198)\n",
    "(0.7095672455110477, 1240)\n",
    "(0.7029872178855614, 1270)\n",
    "```\n",
    "\n",
    "Otrzymane reprezentacje wyświetl w postaci nazw filmów, korzystając z movies.csv. Uwaga: w rzeczywistych\n",
    "danych otrzymamy dużą liczbę zer, nawet całe kolumny, wtedy dostaniemy wartości NaN przy dzieleniu!\n",
    "Rozwiąż ten problem wykorzystując np.nan_to_num(...).\n",
    "\n"
   ]
  },
  {
   "cell_type": "code",
   "execution_count": null,
   "id": "ff616d11-0b7a-4451-95e1-a961c548dd6d",
   "metadata": {},
   "outputs": [],
   "source": []
  }
 ],
 "metadata": {
  "kernelspec": {
   "display_name": "Python 3 (ipykernel)",
   "language": "python",
   "name": "python3"
  },
  "language_info": {
   "codemirror_mode": {
    "name": "ipython",
    "version": 3
   },
   "file_extension": ".py",
   "mimetype": "text/x-python",
   "name": "python",
   "nbconvert_exporter": "python",
   "pygments_lexer": "ipython3",
   "version": "3.11.0"
  }
 },
 "nbformat": 4,
 "nbformat_minor": 5
}
